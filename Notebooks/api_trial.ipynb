{
 "cells": [
  {
   "cell_type": "code",
   "execution_count": 36,
   "metadata": {},
   "outputs": [],
   "source": [
    "import requests\n",
    "import json\n",
    "import os\n",
    "import pandas as pd\n",
    "import xml.etree.ElementTree as ET"
   ]
  },
  {
   "cell_type": "code",
   "execution_count": 46,
   "metadata": {},
   "outputs": [],
   "source": [
    "# search query\n",
    "query = \"Do we need sex education in schools?\"\n",
    "query = 'contraceptive'\n",
    "page = \"2\"\n",
    "pageSize = 1000"
   ]
  },
  {
   "cell_type": "code",
   "execution_count": 47,
   "metadata": {},
   "outputs": [],
   "source": [
    "# Define the URL with a placeholder for the query and page parameters\n",
    "#url_template = \"https://args.me/api/v2/arguments?query={}&corpora=args-me-2020-04-01&page={}&format=json\"\n",
    "url_template = \"https://args.me/api/v2/arguments?query={}&pageSize={}&format=json\""
   ]
  },
  {
   "cell_type": "code",
   "execution_count": 48,
   "metadata": {},
   "outputs": [],
   "source": [
    "# Use string formatting to replace the placeholder with the user's query\n",
    "#url = url_template.format(query, page)\n",
    "url = url_template.format(query, pageSize)"
   ]
  },
  {
   "cell_type": "code",
   "execution_count": 49,
   "metadata": {},
   "outputs": [],
   "source": [
    "# Make a GET request to the API and parse the JSON response\n",
    "response = requests.get(url).json()"
   ]
  },
  {
   "cell_type": "code",
   "execution_count": 50,
   "metadata": {},
   "outputs": [
    {
     "name": "stdout",
     "output_type": "stream",
     "text": [
      "8\n",
      "{'id': 'Sc67482ba-A1cf7966e', 'conclusion': 'Contraceptive Forms for High School Students', 'premises': [{'text': \"As a senior at my school. My group and I are focusing on teenage pregnancy; we are determined to have high school districts provide contraceptive forms to students to be safe about sex. This focus isn't for us to encourage to have sex, but if teenagers decide to have sex to please be safe about it. In addition. if parents do not agree to this we want to have an opt out form where their child/children will not be receiving this form.\", 'stance': 'PRO', 'annotations': [{'type': 'me.args.argument.QueryTermHighlight', 'start': 132, 'end': 145, 'source': 'me.args.retrieval.retrieval.highlight.SimpleQueryTermHighlighter'}, {'type': 'me.args.argument.Snippet', 'start': 186, 'end': 299, 'source': 'me.args.indexing.assessment.snippets.TextRankSnippetGenerator'}, {'type': 'me.args.argument.Summary', 'start': 186, 'end': 299, 'source': 'me.args.indexing.assessment.snippets.TextRankSnippetGenerator'}, {'type': 'me.args.argument.Snippet', 'start': 313, 'end': 425, 'source': 'me.args.indexing.assessment.snippets.TextRankSnippetGenerator'}]}], 'context': {'corpora': ['args-me-2020-04-01'], 'topic': 'Contraceptive Forms for High School Students', 'mode': 'discussion', 'sourceDomain': 'debate.org', 'sourceId': 'Sc67482ba', 'sourceTextConclusionStart': 1659, 'sourceTextConclusionEnd': 1703, 'sourceTextPremiseStart': 2111, 'sourceTextPremiseEnd': 2548, 'sourceTitle': 'Debate Argument: Contraceptive Forms for High School Students | Debate.org', 'sourceUrl': 'https://www.debate.org/debates/Contraceptive-Forms-for-High-School-Students/1/'}, 'summary': \"This focus isn't for us to encourage to have sex, but if...\", 'explanation': {'score': 28.612189531326294, 'name': 'sum', 'details': [{'score': 17.70757794380188, 'name': 'sum', 'details': [{'score': 5.452305793762207, 'name': 'conclusion:contraceptive', 'details': [{'score': 5.452305672216426, 'name': 'product', 'details': [{'score': 0.5, 'name': 'boost', 'details': []}, {'score': 10.773702621459961, 'name': 'idf', 'details': []}, {'score': 1.012150764465332, 'name': 'tfNorm', 'details': []}]}]}, {'score': 10.195365905761719, 'name': 'premises:contraceptive', 'details': [{'score': 10.195365842668139, 'name': 'product', 'details': [{'score': 7.382460594177246, 'name': 'idf', 'details': []}, {'score': 1.3810254335403442, 'name': 'tfNorm', 'details': []}]}]}, {'score': 2.059906244277954, 'name': 'sourceText:contraceptive', 'details': [{'score': 2.059906279427745, 'name': 'product', 'details': [{'score': 0.20000000298023224, 'name': 'boost', 'details': []}, {'score': 5.485836029052734, 'name': 'idf', 'details': []}, {'score': 1.8774770498275757, 'name': 'tfNorm', 'details': []}]}]}]}, {'score': 10.904611587524414, 'name': 'conclusion:contraceptive', 'details': [{'score': 10.904611344432851, 'name': 'product', 'details': [{'score': 10.773702621459961, 'name': 'idf', 'details': []}, {'score': 1.012150764465332, 'name': 'tfNorm', 'details': []}]}]}]}, 'stance': 'PRO'}\n",
      "[{'id': 'Sc67482ba-A1cf7966e', 'conclusion': 'Contraceptive Forms for High School Students', 'premises': [{'text': \"As a senior at my school. My group and I are focusing on teenage pregnancy; we are determined to have high school districts provide contraceptive forms to students to be safe about sex. This focus isn't for us to encourage to have sex, but if teenagers decide to have sex to please be safe about it. In addition. if parents do not agree to this we want to have an opt out form where their child/children will not be receiving this form.\", 'stance': 'PRO', 'annotations': [{'type': 'me.args.argument.QueryTermHighlight', 'start': 132, 'end': 145, 'source': 'me.args.retrieval.retrieval.highlight.SimpleQueryTermHighlighter'}, {'type': 'me.args.argument.Snippet', 'start': 186, 'end': 299, 'source': 'me.args.indexing.assessment.snippets.TextRankSnippetGenerator'}, {'type': 'me.args.argument.Summary', 'start': 186, 'end': 299, 'source': 'me.args.indexing.assessment.snippets.TextRankSnippetGenerator'}, {'type': 'me.args.argument.Snippet', 'start': 313, 'end': 425, 'source': 'me.args.indexing.assessment.snippets.TextRankSnippetGenerator'}]}], 'context': {'corpora': ['args-me-2020-04-01'], 'topic': 'Contraceptive Forms for High School Students', 'mode': 'discussion', 'sourceDomain': 'debate.org', 'sourceId': 'Sc67482ba', 'sourceTextConclusionStart': 1659, 'sourceTextConclusionEnd': 1703, 'sourceTextPremiseStart': 2111, 'sourceTextPremiseEnd': 2548, 'sourceTitle': 'Debate Argument: Contraceptive Forms for High School Students | Debate.org', 'sourceUrl': 'https://www.debate.org/debates/Contraceptive-Forms-for-High-School-Students/1/'}, 'summary': \"This focus isn't for us to encourage to have sex, but if...\", 'explanation': {'score': 28.612189531326294, 'name': 'sum', 'details': [{'score': 17.70757794380188, 'name': 'sum', 'details': [{'score': 5.452305793762207, 'name': 'conclusion:contraceptive', 'details': [{'score': 5.452305672216426, 'name': 'product', 'details': [{'score': 0.5, 'name': 'boost', 'details': []}, {'score': 10.773702621459961, 'name': 'idf', 'details': []}, {'score': 1.012150764465332, 'name': 'tfNorm', 'details': []}]}]}, {'score': 10.195365905761719, 'name': 'premises:contraceptive', 'details': [{'score': 10.195365842668139, 'name': 'product', 'details': [{'score': 7.382460594177246, 'name': 'idf', 'details': []}, {'score': 1.3810254335403442, 'name': 'tfNorm', 'details': []}]}]}, {'score': 2.059906244277954, 'name': 'sourceText:contraceptive', 'details': [{'score': 2.059906279427745, 'name': 'product', 'details': [{'score': 0.20000000298023224, 'name': 'boost', 'details': []}, {'score': 5.485836029052734, 'name': 'idf', 'details': []}, {'score': 1.8774770498275757, 'name': 'tfNorm', 'details': []}]}]}]}, {'score': 10.904611587524414, 'name': 'conclusion:contraceptive', 'details': [{'score': 10.904611344432851, 'name': 'product', 'details': [{'score': 10.773702621459961, 'name': 'idf', 'details': []}, {'score': 1.012150764465332, 'name': 'tfNorm', 'details': []}]}]}]}, 'stance': 'PRO'}, {'id': 'Sda0e1226-A6f17fe0b', 'conclusion': 'Appeals court deals blow to ObamaCare contraceptive mandate', 'premises': [{'text': 'A divided appeals court panel sided Friday with Ohio business owners who challenged the birth control mandate under the new federal health care law. The business owners are two brothers, Francis and Philip M. Gilardi, who own Freshway Foods and Freshway Logistics of Sidney, Ohio., and challenged the mandate on religious grounds. They say the mandate to provide contraceptive coverage would force them to violate their Roman Catholic beliefs and moral values by providing contraceptives such as the morning-after pill for their employees. The law already exempts houses of worship...', 'stance': 'PRO', 'annotations': [{'type': 'me.args.argument.Snippet', 'start': 0, 'end': 148, 'source': 'me.args.indexing.assessment.snippets.TextRankSnippetGenerator'}, {'type': 'me.args.argument.Summary', 'start': 331, 'end': 539, 'source': 'me.args.indexing.assessment.snippets.TextRankSnippetGenerator'}, {'type': 'me.args.argument.Snippet', 'start': 331, 'end': 405, 'source': 'me.args.indexing.assessment.snippets.TextRankSnippetGenerator'}, {'type': 'me.args.argument.QueryTermHighlight', 'start': 363, 'end': 376, 'source': 'me.args.retrieval.retrieval.highlight.SimpleQueryTermHighlighter'}]}], 'context': {'aspects': [{'name': 'Health care', 'weight': 1.0, 'normalizedWeight': 1.0, 'rank': 1}], 'mode': 'news', 'sourceDomain': 'allsides', 'sourceId': 'Sda0e1226', 'sourceTextConclusionStart': 4741, 'sourceTextConclusionEnd': 4800, 'sourceTextPremiseStart': 4824, 'sourceTextPremiseEnd': 5408, 'sourceTitle': 'Supreme Court Religious Cases | AllSides', 'sourceUrl': 'https://www.allsides.com/story/supreme-court-religious-cases'}, 'summary': 'A divided appeals court panel sided Friday with Ohio...', 'explanation': {'score': 25.656369805336, 'name': 'sum', 'details': [{'score': 16.133811593055725, 'name': 'sum', 'details': [{'score': 4.761279106140137, 'name': 'conclusion:contraceptive', 'details': [{'score': 4.761279187954472, 'name': 'product', 'details': [{'score': 0.5, 'name': 'boost', 'details': []}, {'score': 10.773702621459961, 'name': 'idf', 'details': []}, {'score': 0.883870542049408, 'name': 'tfNorm', 'details': []}]}]}, {'score': 9.651886940002441, 'name': 'premises:contraceptive', 'details': [{'score': 9.65188697734584, 'name': 'product', 'details': [{'score': 7.382460594177246, 'name': 'idf', 'details': []}, {'score': 1.3074078559875488, 'name': 'tfNorm', 'details': []}]}]}, {'score': 1.720645546913147, 'name': 'sourceText:contraceptive', 'details': [{'score': 1.7206455105312266, 'name': 'product', 'details': [{'score': 0.20000000298023224, 'name': 'boost', 'details': []}, {'score': 5.485836029052734, 'name': 'idf', 'details': []}, {'score': 1.5682618618011475, 'name': 'tfNorm', 'details': []}]}]}]}, {'score': 9.522558212280273, 'name': 'conclusion:contraceptive', 'details': [{'score': 9.522558375908943, 'name': 'product', 'details': [{'score': 10.773702621459961, 'name': 'idf', 'details': []}, {'score': 0.883870542049408, 'name': 'tfNorm', 'details': []}]}]}]}, 'stance': 'PRO'}, {'id': 'S10e6e677-A221f0968', 'conclusion': 'Health Law’s Contraceptive Rule Eased for Businesses With Religious Objections', 'premises': [{'text': 'The Obama administration issued new rules on Friday that allow closely held for-profit corporations like Hobby Lobby Stores to opt out of providing women with insurance coverage for contraceptives if the companies have religious objections. Women enrolled in such health plans would still be able to get birth control at no cost, the administration said. Insurers would pay for contraceptive services, but the payments would be separate from the employer’s health plan. The rules came in response to a decision by the Supreme Court in June 2014. In that...', 'stance': 'PRO', 'annotations': [{'type': 'me.args.argument.Summary', 'start': 0, 'end': 240, 'source': 'me.args.indexing.assessment.snippets.TextRankSnippetGenerator'}, {'type': 'me.args.argument.Snippet', 'start': 0, 'end': 218, 'source': 'me.args.indexing.assessment.snippets.TextRankSnippetGenerator'}, {'type': 'me.args.argument.QueryTermHighlight', 'start': 378, 'end': 391, 'source': 'me.args.retrieval.retrieval.highlight.SimpleQueryTermHighlighter'}]}], 'context': {'aspects': [{'name': 'Women', 'weight': 2.0, 'normalizedWeight': 1.0, 'rank': 1}], 'mode': 'news', 'sourceDomain': 'allsides', 'sourceId': 'S10e6e677', 'sourceTextConclusionStart': 4957, 'sourceTextConclusionEnd': 5035, 'sourceTextPremiseStart': 5058, 'sourceTextPremiseEnd': 5614, 'sourceTitle': 'Birth Control Rules for Businesses | AllSides', 'sourceUrl': 'https://www.allsides.com/story/birth-control-rules-businesses'}, 'summary': 'The Obama administration issued new rules on Friday that...', 'explanation': {'score': 23.718947768211365, 'name': 'sum', 'details': [{'score': 15.850323557853699, 'name': 'sum', 'details': [{'score': 3.934312105178833, 'name': 'conclusion:contraceptive', 'details': [{'score': 3.9343119936639823, 'name': 'product', 'details': [{'score': 0.5, 'name': 'boost', 'details': []}, {'score': 10.773702621459961, 'name': 'idf', 'details': []}, {'score': 0.7303546667098999, 'name': 'tfNorm', 'details': []}]}]}, {'score': 10.195365905761719, 'name': 'premises:contraceptive', 'details': [{'score': 10.195365842668139, 'name': 'product', 'details': [{'score': 7.382460594177246, 'name': 'idf', 'details': []}, {'score': 1.3810254335403442, 'name': 'tfNorm', 'details': []}]}]}, {'score': 1.720645546913147, 'name': 'sourceText:contraceptive', 'details': [{'score': 1.7206455105312266, 'name': 'product', 'details': [{'score': 0.20000000298023224, 'name': 'boost', 'details': []}, {'score': 5.485836029052734, 'name': 'idf', 'details': []}, {'score': 1.5682618618011475, 'name': 'tfNorm', 'details': []}]}]}]}, {'score': 7.868624210357666, 'name': 'conclusion:contraceptive', 'details': [{'score': 7.868623987327965, 'name': 'product', 'details': [{'score': 10.773702621459961, 'name': 'idf', 'details': []}, {'score': 0.7303546667098999, 'name': 'tfNorm', 'details': []}]}]}]}, 'stance': 'PRO'}, {'id': 'Se1347bd3-A915ff943', 'conclusion': 'Emergency contraceptive pills can have serious, harmful side-effects including nausea, vomiting, inf...', 'premises': [{'text': 'Emergency contraceptive pills can have serious, harmful side-effects including nausea, vomiting, infertility, breast tenderness, ectopic pregnancy and blood clot formation. There are no long-term studies into whether women are at risk of permanent damage or diseases such as cancer as a result of exposure to such high doses of dangerous chemicals.', 'stance': 'PRO', 'annotations': [{'type': 'me.args.argument.Snippet', 'start': 0, 'end': 172, 'source': 'me.args.indexing.assessment.snippets.TextRankSnippetGenerator'}, {'type': 'me.args.argument.QueryTermHighlight', 'start': 10, 'end': 23, 'source': 'me.args.retrieval.retrieval.highlight.SimpleQueryTermHighlighter'}, {'type': 'me.args.argument.Summary', 'start': 173, 'end': 348, 'source': 'me.args.indexing.assessment.snippets.TextRankSnippetGenerator'}, {'type': 'me.args.argument.Snippet', 'start': 173, 'end': 226, 'source': 'me.args.indexing.assessment.snippets.TextRankSnippetGenerator'}]}], 'context': {'aspects': [{'name': 'Cancer', 'weight': 1.0, 'normalizedWeight': 0.5, 'rank': 1}, {'name': 'Women', 'weight': 1.0, 'normalizedWeight': 0.5, 'rank': 1}], 'corpora': ['args-me-2020-04-01'], 'topic': 'Emergency Contraception', 'mode': 'discussion', 'sourceDomain': 'debatewise', 'sourceId': 'Se1347bd3', 'sourceTextConclusionStart': 2190, 'sourceTextConclusionEnd': 2293, 'sourceTextPremiseStart': 2294, 'sourceTextPremiseEnd': 2642, 'sourceTitle': 'Emergency Contraception - DebateWise', 'sourceUrl': 'https://debatewise.org/debates/2697-emergency-contraception/'}, 'summary': 'Emergency contraceptive pills can have serious, harmful...', 'explanation': {'score': 21.198651790618896, 'name': 'sum', 'details': [{'score': 15.236398696899414, 'name': 'sum', 'details': [{'score': 2.981126546859741, 'name': 'conclusion:contraceptive', 'details': [{'score': 2.9811264328904485, 'name': 'product', 'details': [{'score': 0.5, 'name': 'boost', 'details': []}, {'score': 10.773702621459961, 'name': 'idf', 'details': []}, {'score': 0.5534079670906067, 'name': 'tfNorm', 'details': []}]}]}, {'score': 10.195365905761719, 'name': 'premises:contraceptive', 'details': [{'score': 10.195365842668139, 'name': 'product', 'details': [{'score': 7.382460594177246, 'name': 'idf', 'details': []}, {'score': 1.3810254335403442, 'name': 'tfNorm', 'details': []}]}]}, {'score': 2.059906244277954, 'name': 'sourceText:contraceptive', 'details': [{'score': 2.059906279427745, 'name': 'product', 'details': [{'score': 0.20000000298023224, 'name': 'boost', 'details': []}, {'score': 5.485836029052734, 'name': 'idf', 'details': []}, {'score': 1.8774770498275757, 'name': 'tfNorm', 'details': []}]}]}]}, {'score': 5.962253093719482, 'name': 'conclusion:contraceptive', 'details': [{'score': 5.962252865780897, 'name': 'product', 'details': [{'score': 10.773702621459961, 'name': 'idf', 'details': []}, {'score': 0.5534079670906067, 'name': 'tfNorm', 'details': []}]}]}]}, 'stance': 'PRO'}, {'id': 'Sc67482ba-Aa2741c94', 'conclusion': 'Contraceptive Forms for High School Students', 'premises': [{'text': 'How do you propose the school will fund your program? Condoms cost money and checking an \"opt out\" list before handing them out takes time away from staff members whenever they could be doing their actual jobs. Your \"opt out\" option is only be a token to parental authority and would be easily subverted. If everyone in school except a handful of students had access to free condoms, do you not think those students would simply ask their friends to provide them with condoms?', 'stance': 'CON', 'annotations': [{'type': 'me.args.argument.Snippet', 'start': 211, 'end': 304, 'source': 'me.args.indexing.assessment.snippets.TextRankSnippetGenerator'}, {'type': 'me.args.argument.Summary', 'start': 305, 'end': 476, 'source': 'me.args.indexing.assessment.snippets.TextRankSnippetGenerator'}, {'type': 'me.args.argument.Snippet', 'start': 305, 'end': 432, 'source': 'me.args.indexing.assessment.snippets.TextRankSnippetGenerator'}]}], 'context': {'corpora': ['args-me-2020-04-01'], 'topic': 'Contraceptive Forms for High School Students', 'mode': 'discussion', 'sourceDomain': 'debate.org', 'sourceId': 'Sc67482ba', 'sourceTextConclusionStart': 1659, 'sourceTextConclusionEnd': 1703, 'sourceTextPremiseStart': 3106, 'sourceTextPremiseEnd': 3583, 'sourceTitle': 'Debate Argument: Contraceptive Forms for High School Students | Debate.org', 'sourceUrl': 'https://www.debate.org/debates/Contraceptive-Forms-for-High-School-Students/1/'}, 'summary': 'Your \"opt out\" option is only be a token to parental...', 'explanation': {'score': 18.416823625564575, 'name': 'sum', 'details': [{'score': 7.512212038040161, 'name': 'sum', 'details': [{'score': 5.452305793762207, 'name': 'conclusion:contraceptive', 'details': [{'score': 5.452305672216426, 'name': 'product', 'details': [{'score': 0.5, 'name': 'boost', 'details': []}, {'score': 10.773702621459961, 'name': 'idf', 'details': []}, {'score': 1.012150764465332, 'name': 'tfNorm', 'details': []}]}]}, {'score': 2.059906244277954, 'name': 'sourceText:contraceptive', 'details': [{'score': 2.059906279427745, 'name': 'product', 'details': [{'score': 0.20000000298023224, 'name': 'boost', 'details': []}, {'score': 5.485836029052734, 'name': 'idf', 'details': []}, {'score': 1.8774770498275757, 'name': 'tfNorm', 'details': []}]}]}]}, {'score': 10.904611587524414, 'name': 'conclusion:contraceptive', 'details': [{'score': 10.904611344432851, 'name': 'product', 'details': [{'score': 10.773702621459961, 'name': 'idf', 'details': []}, {'score': 1.012150764465332, 'name': 'tfNorm', 'details': []}]}]}]}, 'stance': 'CON'}, {'id': 'Sc67482ba-A14ad0669', 'conclusion': 'Contraceptive Forms for High School Students', 'premises': [{'text': 'My opponent forfeited every round. None of my arguments were answered. I don’t like the idea of winning by default, but here we are. Tule: it’s good for students to get involved and address big issues like teen pregnancy. You need to be able to answer arguments like mine and not simply prepare for an abstinence-only type of response. You should also be aware that, in the U.S., condoms may be sold to minors in ANY state. A retailer who says it is illegal to sell you them is, frankly, wrong.', 'stance': 'CON', 'annotations': [{'type': 'me.args.argument.Snippet', 'start': 71, 'end': 132, 'source': 'me.args.indexing.assessment.snippets.TextRankSnippetGenerator'}, {'type': 'me.args.argument.Summary', 'start': 71, 'end': 132, 'source': 'me.args.indexing.assessment.snippets.TextRankSnippetGenerator'}, {'type': 'me.args.argument.Snippet', 'start': 336, 'end': 423, 'source': 'me.args.indexing.assessment.snippets.TextRankSnippetGenerator'}]}], 'context': {'aspects': [{'name': 'Minors', 'weight': 1.0, 'normalizedWeight': 1.0, 'rank': 1}], 'corpora': ['args-me-2020-04-01'], 'topic': 'Contraceptive Forms for High School Students', 'mode': 'discussion', 'sourceDomain': 'debate.org', 'sourceId': 'Sc67482ba', 'sourceTextConclusionStart': 1659, 'sourceTextConclusionEnd': 1703, 'sourceTextPremiseStart': 3644, 'sourceTextPremiseEnd': 4139, 'sourceTitle': 'Debate Argument: Contraceptive Forms for High School Students | Debate.org', 'sourceUrl': 'https://www.debate.org/debates/Contraceptive-Forms-for-High-School-Students/1/'}, 'summary': 'I don’t like the idea of winning by default, but here we...', 'explanation': {'score': 18.416823625564575, 'name': 'sum', 'details': [{'score': 7.512212038040161, 'name': 'sum', 'details': [{'score': 5.452305793762207, 'name': 'conclusion:contraceptive', 'details': [{'score': 5.452305672216426, 'name': 'product', 'details': [{'score': 0.5, 'name': 'boost', 'details': []}, {'score': 10.773702621459961, 'name': 'idf', 'details': []}, {'score': 1.012150764465332, 'name': 'tfNorm', 'details': []}]}]}, {'score': 2.059906244277954, 'name': 'sourceText:contraceptive', 'details': [{'score': 2.059906279427745, 'name': 'product', 'details': [{'score': 0.20000000298023224, 'name': 'boost', 'details': []}, {'score': 5.485836029052734, 'name': 'idf', 'details': []}, {'score': 1.8774770498275757, 'name': 'tfNorm', 'details': []}]}]}]}, {'score': 10.904611587524414, 'name': 'conclusion:contraceptive', 'details': [{'score': 10.904611344432851, 'name': 'product', 'details': [{'score': 10.773702621459961, 'name': 'idf', 'details': []}, {'score': 1.012150764465332, 'name': 'tfNorm', 'details': []}]}]}]}, 'stance': 'CON'}, {'id': 'Sc67482ba-Aea9d714c', 'conclusion': 'Contraceptive Forms for High School Students', 'premises': [{'text': 'Schools have no compelling interest in providing contraceptives to students. The purpose of schools is not to provide healthcare nor to provide any other service except insofar as it relates to the furtherance of education [1,2,3], though I do not contest that individual districts ought to have this option if they so choose. As an educator, I do feel that adequate sexual education is a necessary. [1] tinyurl.com/z786mww [2] tinyurl.com/jafrt2n [3] tinyurl.com/zbkwkz6', 'stance': 'CON', 'annotations': [{'type': 'me.args.argument.Snippet', 'start': 0, 'end': 77, 'source': 'me.args.indexing.assessment.snippets.TextRankSnippetGenerator'}, {'type': 'me.args.argument.Summary', 'start': 77, 'end': 326, 'source': 'me.args.indexing.assessment.snippets.TextRankSnippetGenerator'}, {'type': 'me.args.argument.Snippet', 'start': 77, 'end': 222, 'source': 'me.args.indexing.assessment.snippets.TextRankSnippetGenerator'}]}], 'context': {'corpora': ['args-me-2020-04-01'], 'topic': 'Contraceptive Forms for High School Students', 'mode': 'discussion', 'sourceDomain': 'debate.org', 'sourceId': 'Sc67482ba', 'sourceTextConclusionStart': 1659, 'sourceTextConclusionEnd': 1703, 'sourceTextPremiseStart': 2573, 'sourceTextPremiseEnd': 3045, 'sourceTitle': 'Debate Argument: Contraceptive Forms for High School Students | Debate.org', 'sourceUrl': 'https://www.debate.org/debates/Contraceptive-Forms-for-High-School-Students/1/'}, 'summary': 'Schools have no compelling interest in providing...', 'explanation': {'score': 18.416823625564575, 'name': 'sum', 'details': [{'score': 7.512212038040161, 'name': 'sum', 'details': [{'score': 5.452305793762207, 'name': 'conclusion:contraceptive', 'details': [{'score': 5.452305672216426, 'name': 'product', 'details': [{'score': 0.5, 'name': 'boost', 'details': []}, {'score': 10.773702621459961, 'name': 'idf', 'details': []}, {'score': 1.012150764465332, 'name': 'tfNorm', 'details': []}]}]}, {'score': 2.059906244277954, 'name': 'sourceText:contraceptive', 'details': [{'score': 2.059906279427745, 'name': 'product', 'details': [{'score': 0.20000000298023224, 'name': 'boost', 'details': []}, {'score': 5.485836029052734, 'name': 'idf', 'details': []}, {'score': 1.8774770498275757, 'name': 'tfNorm', 'details': []}]}]}]}, {'score': 10.904611587524414, 'name': 'conclusion:contraceptive', 'details': [{'score': 10.904611344432851, 'name': 'product', 'details': [{'score': 10.773702621459961, 'name': 'idf', 'details': []}, {'score': 1.012150764465332, 'name': 'tfNorm', 'details': []}]}]}]}, 'stance': 'CON'}, {'id': 'Se1347bd3-A6baf4e33', 'conclusion': 'Emergency contraceptive pills can have serious, harmful side-effects including nausea, vomiting, inf...', 'premises': [{'text': 'The most serious of these side effects are extremely rare. Nausea and vomiting, while unpleasant, do no long-term damage and would be considered by women who choose to use emergency contraception to be a price worth paying for avoiding an unwanted pregnancy. Citing a lack of investigation-based evidence for long-term damage is not a good argument that there may be long-term damage.', 'stance': 'CON', 'annotations': [{'type': 'me.args.argument.Snippet', 'start': 59, 'end': 258, 'source': 'me.args.indexing.assessment.snippets.TextRankSnippetGenerator'}, {'type': 'me.args.argument.Summary', 'start': 59, 'end': 258, 'source': 'me.args.indexing.assessment.snippets.TextRankSnippetGenerator'}, {'type': 'me.args.argument.Snippet', 'start': 259, 'end': 275, 'source': 'me.args.indexing.assessment.snippets.TextRankSnippetGenerator'}]}], 'context': {'aspects': [{'name': 'Women', 'weight': 1.0, 'normalizedWeight': 1.0, 'rank': 1}], 'corpora': ['args-me-2020-04-01'], 'topic': 'Emergency Contraception', 'mode': 'discussion', 'sourceDomain': 'debatewise', 'sourceId': 'Se1347bd3', 'sourceTextConclusionStart': 2190, 'sourceTextConclusionEnd': 2293, 'sourceTextPremiseStart': 2657, 'sourceTextPremiseEnd': 3041, 'sourceTitle': 'Emergency Contraception - DebateWise', 'sourceUrl': 'https://debatewise.org/debates/2697-emergency-contraception/'}, 'summary': 'Nausea and vomiting, while unpleasant, do no long-term...', 'explanation': {'score': 11.003285884857178, 'name': 'sum', 'details': [{'score': 5.041032791137695, 'name': 'sum', 'details': [{'score': 2.981126546859741, 'name': 'conclusion:contraceptive', 'details': [{'score': 2.9811264328904485, 'name': 'product', 'details': [{'score': 0.5, 'name': 'boost', 'details': []}, {'score': 10.773702621459961, 'name': 'idf', 'details': []}, {'score': 0.5534079670906067, 'name': 'tfNorm', 'details': []}]}]}, {'score': 2.059906244277954, 'name': 'sourceText:contraceptive', 'details': [{'score': 2.059906279427745, 'name': 'product', 'details': [{'score': 0.20000000298023224, 'name': 'boost', 'details': []}, {'score': 5.485836029052734, 'name': 'idf', 'details': []}, {'score': 1.8774770498275757, 'name': 'tfNorm', 'details': []}]}]}]}, {'score': 5.962253093719482, 'name': 'conclusion:contraceptive', 'details': [{'score': 5.962252865780897, 'name': 'product', 'details': [{'score': 10.773702621459961, 'name': 'idf', 'details': []}, {'score': 0.5534079670906067, 'name': 'tfNorm', 'details': []}]}]}]}, 'stance': 'CON'}]\n"
     ]
    }
   ],
   "source": [
    "print (len(response['arguments']))\n",
    "print (response['arguments'][0])\n",
    "print (response['arguments'])"
   ]
  },
  {
   "cell_type": "code",
   "execution_count": 34,
   "metadata": {},
   "outputs": [],
   "source": [
    "def search_api(es, root, output_dir, page_size, url_template):\n",
    "    # Loop through topics and search for the top 1000 arguments\n",
    "    for topic in root.findall('topic'):\n",
    "        topic_number = topic.find('number')\n",
    "        if topic_number is not None:\n",
    "            topic_id = topic_number.text\n",
    "            topic_title = topic.find('title')\n",
    "            if topic_title is not None and topic_title.text:\n",
    "                topic_title = topic_title.text.strip()\n",
    "            else:\n",
    "                topic_title = ''\n",
    "\n",
    "            # Define the search query using the topic title\n",
    "            #query = {\n",
    "            #    \"query\": {\n",
    "            #        \"match\": {\n",
    "            #            \"text\": topic_title\n",
    "            #        }\n",
    "            #    },\n",
    "            #    \"size\": 1000,\n",
    "            #    \"explain\": True\n",
    "            #}\n",
    "            \n",
    "            url = url_template.format(topic_title, pageSize)\n",
    "\n",
    "            # Execute the search query on Elasticsearch\n",
    "            #results = es.search(index=index_name, body=query)['hits']['hits']\n",
    "            response = requests.get(url).json()\n",
    "            results = response['arguments']\n",
    "            \n",
    "            # Save the top 1000 arguments for the current topic to a file\n",
    "            os.makedirs(output_dir, exist_ok=True)\n",
    "            #with open(os.path.join(output_dir, f\"{topic_id}.txt\"), \"w\") as f:\n",
    "            topic_file_name = os.path.join(output_dir, f\"{topic_id}.txt\")\n",
    "            header = ['id', 'conclusion', 'premises', 'stance', 'rank']\n",
    "            arguments = []\n",
    "            for i, result in enumerate(results):\n",
    "                #argument = result['_source']['text']\n",
    "                argument = [result['id'], result['conclusion'], result['premises'][0]['text'], result['stance'], i + 1]\n",
    "                arguments.append(argument)\n",
    "            \n",
    "            retrieved_arguments_pd = pd.DataFrame(arguments, columns=header)\n",
    "            retrieved_arguments_pd.to_csv(topic_file_name, sep='\\t')\n",
    "            break\n",
    "                #f.write(f\"{topic_id} {i+1}\\t{argument}\\n\")  "
   ]
  },
  {
   "cell_type": "code",
   "execution_count": 35,
   "metadata": {},
   "outputs": [
    {
     "ename": "NameError",
     "evalue": "name 'ET' is not defined",
     "output_type": "error",
     "traceback": [
      "\u001b[0;31m---------------------------------------------------------------------------\u001b[0m",
      "\u001b[0;31mNameError\u001b[0m                                 Traceback (most recent call last)",
      "Cell \u001b[0;32mIn[35], line 2\u001b[0m\n\u001b[1;32m      1\u001b[0m \u001b[39m# Load the XML files\u001b[39;00m\n\u001b[0;32m----> 2\u001b[0m tree21 \u001b[39m=\u001b[39m ET\u001b[39m.\u001b[39mparse(\u001b[39m'\u001b[39m\u001b[39m/Users/balazs/Desktop/dissertationProjectCode/dissertationCodeBase/Data/topic_files/topics-task-1-only-titles.xml\u001b[39m\u001b[39m'\u001b[39m)\n\u001b[1;32m      3\u001b[0m root21 \u001b[39m=\u001b[39m tree21\u001b[39m.\u001b[39mgetroot()\n\u001b[1;32m      5\u001b[0m \u001b[39m#tree22 = ET.parse('/Users/balazs/Desktop/dissertationProjectCode/dissertationCodeBase/Data/topic_files/topics2022.xml')\u001b[39;00m\n\u001b[1;32m      6\u001b[0m \u001b[39m#root22 = tree22.getroot()\u001b[39;00m\n\u001b[1;32m      7\u001b[0m \n\u001b[1;32m      8\u001b[0m \u001b[39m# Define the output directories\u001b[39;00m\n",
      "\u001b[0;31mNameError\u001b[0m: name 'ET' is not defined"
     ]
    }
   ],
   "source": [
    "# Load the XML files\n",
    "tree21 = ET.parse('/Users/balazs/Desktop/dissertationProjectCode/dissertationCodeBase/Data/topic_files/topics-task-1-only-titles.xml')\n",
    "root21 = tree21.getroot()\n",
    "\n",
    "#tree22 = ET.parse('/Users/balazs/Desktop/dissertationProjectCode/dissertationCodeBase/Data/topic_files/topics2022.xml')\n",
    "#root22 = tree22.getroot()\n",
    "\n",
    "# Define the output directories\n",
    "output_dir21 = \"/Users/balazs/Desktop/dissertationProjectCode/dissertationCodeBase/Data/args21/\"\n",
    "#output_dir22 = \"/Users/balazs/Desktop/dissertationProjectCode/dissertationCodeBase/Data/args22/\"\n",
    "\n",
    "pageSize = 1000\n",
    "url_template = \"https://args.me/api/v2/arguments?query={}&corpora=args-me-2020-04-01&pageSize={}&format=json\"\n",
    "\n",
    "# Call search functions\n",
    "search_api(es, root21, output_dir21, pageSize, url_template)\n",
    "#search_topics(es, root22, output_dir22, index_name=\"my-custom-index\")"
   ]
  },
  {
   "cell_type": "code",
   "execution_count": 18,
   "metadata": {},
   "outputs": [
    {
     "name": "stdout",
     "output_type": "stream",
     "text": [
      "5\n",
      "216\n"
     ]
    }
   ],
   "source": [
    "# Print the response\n",
    "print (len(response))\n",
    "#print(response)\n",
    "print (len(response['arguments']))"
   ]
  }
 ],
 "metadata": {
  "kernelspec": {
   "display_name": "env_name",
   "language": "python",
   "name": "python3"
  },
  "language_info": {
   "codemirror_mode": {
    "name": "ipython",
    "version": 3
   },
   "file_extension": ".py",
   "mimetype": "text/x-python",
   "name": "python",
   "nbconvert_exporter": "python",
   "pygments_lexer": "ipython3",
   "version": "3.9.16"
  },
  "orig_nbformat": 4,
  "vscode": {
   "interpreter": {
    "hash": "37cc1b05901c8571bea9fc4b42e3f528ca4394d6e6719f1b5d30d208c4a3cfc1"
   }
  }
 },
 "nbformat": 4,
 "nbformat_minor": 2
}
