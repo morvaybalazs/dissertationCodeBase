{
 "cells": [
  {
   "cell_type": "code",
   "execution_count": 32,
   "metadata": {},
   "outputs": [],
   "source": [
    "import requests\n",
    "import os\n",
    "import pandas as pd\n",
    "import xml.etree.ElementTree as ET"
   ]
  },
  {
   "cell_type": "code",
   "execution_count": 33,
   "metadata": {},
   "outputs": [],
   "source": [
    "def search_api(root, output_dir, pageSize, url_template):\n",
    "    # Loop through topics and search for the top 1000 arguments\n",
    "    for topic in root.findall('topic'):\n",
    "        topic_number = topic.find('number')\n",
    "        if topic_number is not None:\n",
    "            topic_id = topic_number.text\n",
    "            topic_title = topic.find('title')\n",
    "            if topic_title is not None and topic_title.text:\n",
    "                topic_title = topic_title.text.strip()\n",
    "            else:\n",
    "                topic_title = ''\n",
    "                \n",
    "            url = url_template.format(topic_title, pageSize)\n",
    "\n",
    "            # Execute the search query on Elasticsearch\n",
    "            #results = es.search(index=index_name, body=query)['hits']['hits']\n",
    "            response = requests.get(url).json()\n",
    "            results = response['arguments']\n",
    "            print (len(results))\n",
    "            \n",
    "            # Save the top 1000 arguments for the current topic to a file\n",
    "            os.makedirs(output_dir, exist_ok=True)\n",
    "            topic_file_name = os.path.join(output_dir, f\"{topic_id}.txt\")\n",
    "            header = ['id', 'conclusion', 'premises', 'stance', 'rank']\n",
    "            arguments = []\n",
    "            for i, result in enumerate(results):\n",
    "                argument = [result['id'], result['conclusion'], result['premises'][0]['text'], result['stance'], i + 1]\n",
    "                arguments.append(argument)\n",
    "            \n",
    "            retrieved_arguments_pd = pd.DataFrame(arguments, columns=header)\n",
    "            retrieved_arguments_pd.to_csv(topic_file_name, sep='\\t')\n"
   ]
  },
  {
   "cell_type": "code",
   "execution_count": 34,
   "metadata": {},
   "outputs": [],
   "source": [
    "# Load the XML files\n",
    "tree21 = ET.parse('/Users/balazs/Desktop/dissertationProjectCode/dissertationCodeBase/Data/topic_files/topics-task-1-2020.xml')\n",
    "root21 = tree21.getroot()\n",
    "\n",
    "# Define the output directories\n",
    "output_dir21 = \"/Users/balazs/Desktop/dissertationProjectCode/dissertationCodeBase/Data/args20/\"\n",
    "\n",
    "pageSize = 1000\n",
    "url_template = \"https://args.me/api/v2/arguments?query={}&corpora=args-me-2020-04-01&pageSize={}&format=json\"\n",
    "#url_template = \"https://args.me/api/v2/arguments?query={}&pageSize={}&format=json\""
   ]
  },
  {
   "cell_type": "code",
   "execution_count": 35,
   "metadata": {},
   "outputs": [
    {
     "name": "stdout",
     "output_type": "stream",
     "text": [
      "41\n",
      "6\n",
      "0\n",
      "0\n",
      "0\n",
      "1000\n",
      "51\n",
      "84\n",
      "27\n",
      "0\n",
      "0\n",
      "0\n",
      "0\n",
      "7\n",
      "0\n",
      "0\n",
      "6\n",
      "0\n",
      "8\n",
      "0\n",
      "214\n",
      "29\n",
      "15\n",
      "0\n",
      "14\n",
      "0\n",
      "0\n",
      "0\n",
      "42\n",
      "69\n",
      "0\n",
      "203\n",
      "0\n",
      "0\n",
      "151\n",
      "2\n",
      "339\n",
      "0\n",
      "0\n",
      "0\n",
      "0\n",
      "0\n",
      "22\n",
      "0\n",
      "0\n",
      "0\n",
      "0\n",
      "6\n",
      "148\n"
     ]
    }
   ],
   "source": [
    "#Call search functions\n",
    "search_api(root21, output_dir21, pageSize, url_template)"
   ]
  }
 ],
 "metadata": {
  "kernelspec": {
   "display_name": "env_name",
   "language": "python",
   "name": "python3"
  },
  "language_info": {
   "codemirror_mode": {
    "name": "ipython",
    "version": 3
   },
   "file_extension": ".py",
   "mimetype": "text/x-python",
   "name": "python",
   "nbconvert_exporter": "python",
   "pygments_lexer": "ipython3",
   "version": "3.9.16"
  },
  "orig_nbformat": 4,
  "vscode": {
   "interpreter": {
    "hash": "37cc1b05901c8571bea9fc4b42e3f528ca4394d6e6719f1b5d30d208c4a3cfc1"
   }
  }
 },
 "nbformat": 4,
 "nbformat_minor": 2
}
