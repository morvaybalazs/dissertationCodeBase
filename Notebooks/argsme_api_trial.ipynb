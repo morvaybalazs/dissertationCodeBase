{
 "cells": [
  {
   "cell_type": "code",
   "execution_count": 15,
   "metadata": {},
   "outputs": [],
   "source": [
    "import requests\n",
    "import json\n",
    "import os\n",
    "import pandas as pd\n",
    "import xml.etree.ElementTree as ET"
   ]
  },
  {
   "cell_type": "code",
   "execution_count": 16,
   "metadata": {},
   "outputs": [],
   "source": [
    "def search_api(root, output_dir, pageSize, url_template):\n",
    "    # Loop through topics and search for the top 1000 arguments\n",
    "    for topic in root.findall('topic'):\n",
    "        topic_number = topic.find('number')\n",
    "        if topic_number is not None:\n",
    "            topic_id = topic_number.text\n",
    "            topic_title = topic.find('title')\n",
    "            if topic_title is not None and topic_title.text:\n",
    "                topic_title = topic_title.text.strip()\n",
    "            else:\n",
    "                topic_title = ''\n",
    "\n",
    "            # Define the search query using the topic title\n",
    "            #query = {\n",
    "            #    \"query\": {\n",
    "            #        \"match\": {\n",
    "            #            \"text\": topic_title\n",
    "            #        }\n",
    "            #    },\n",
    "            #    \"size\": 1000,\n",
    "            #    \"explain\": True\n",
    "            #}\n",
    "            \n",
    "            #print (\"{}:{}\".format(topic_title, pageSize))\n",
    "            url = url_template.format(topic_title, pageSize)\n",
    "\n",
    "            # Execute the search query on Elasticsearch\n",
    "            #results = es.search(index=index_name, body=query)['hits']['hits']\n",
    "            response = requests.get(url).json()\n",
    "            results = response['arguments']\n",
    "            print (len(results))\n",
    "            \n",
    "            # Save the top 1000 arguments for the current topic to a file\n",
    "            os.makedirs(output_dir, exist_ok=True)\n",
    "            #with open(os.path.join(output_dir, f\"{topic_id}.txt\"), \"w\") as f:\n",
    "            topic_file_name = os.path.join(output_dir, f\"{topic_id}.txt\")\n",
    "            header = ['id', 'conclusion', 'premises', 'stance', 'rank']\n",
    "            arguments = []\n",
    "            for i, result in enumerate(results):\n",
    "                #argument = result['_source']['text']\n",
    "                argument = [result['id'], result['conclusion'], result['premises'][0]['text'], result['stance'], i + 1]\n",
    "                arguments.append(argument)\n",
    "            \n",
    "            #print (len(arguments))\n",
    "            #print (len(arguments[0]))\n",
    "            \n",
    "            retrieved_arguments_pd = pd.DataFrame(arguments, columns=header)\n",
    "            retrieved_arguments_pd.to_csv(topic_file_name, sep='\\t')\n",
    "            #break\n",
    "                #f.write(f\"{topic_id} {i+1}\\t{argument}\\n\")  "
   ]
  },
  {
   "cell_type": "code",
   "execution_count": 19,
   "metadata": {},
   "outputs": [
    {
     "name": "stdout",
     "output_type": "stream",
     "text": [
      "0\n",
      "0\n",
      "0\n",
      "170\n",
      "0\n",
      "0\n",
      "0\n",
      "0\n",
      "0\n",
      "0\n",
      "802\n",
      "0\n",
      "10\n",
      "0\n",
      "23\n",
      "1000\n",
      "0\n",
      "0\n",
      "0\n",
      "0\n",
      "0\n",
      "8\n",
      "0\n",
      "62\n",
      "143\n",
      "1000\n",
      "10\n",
      "14\n",
      "330\n",
      "0\n",
      "0\n",
      "161\n",
      "0\n",
      "21\n",
      "0\n",
      "5\n",
      "2\n",
      "12\n",
      "0\n",
      "2\n",
      "0\n",
      "8\n",
      "0\n",
      "2\n",
      "0\n",
      "0\n",
      "0\n",
      "0\n",
      "0\n",
      "0\n"
     ]
    }
   ],
   "source": [
    "# Load the XML files\n",
    "tree21 = ET.parse('/Users/balazs/Desktop/dissertationProjectCode/dissertationCodeBase/Data/topic_files/topics-task-1-only-titles.xml')\n",
    "root21 = tree21.getroot()\n",
    "\n",
    "#tree22 = ET.parse('/Users/balazs/Desktop/dissertationProjectCode/dissertationCodeBase/Data/topic_files/topics2022.xml')\n",
    "#root22 = tree22.getroot()\n",
    "\n",
    "# Define the output directories\n",
    "output_dir21 = \"/Users/balazs/Desktop/dissertationProjectCode/dissertationCodeBase/Data/args21/\"\n",
    "#output_dir22 = \"/Users/balazs/Desktop/dissertationProjectCode/dissertationCodeBase/Data/args22/\"\n",
    "\n",
    "pageSize = 1000\n",
    "#url_template = \"https://args.me/api/v2/arguments?query={}&corpora=args-me-2020-04-01&pageSize={}&format=json\"\n",
    "url_template = \"https://args.me/api/v2/arguments?query={}&pageSize={}&format=json\"\n",
    "\n",
    "# Call search functions\n",
    "search_api(root21, output_dir21, pageSize, url_template)\n",
    "#search_topics(es, root22, output_dir22, index_name=\"my-custom-index\")"
   ]
  },
  {
   "cell_type": "code",
   "execution_count": 18,
   "metadata": {},
   "outputs": [
    {
     "name": "stdout",
     "output_type": "stream",
     "text": [
      "5\n",
      "216\n"
     ]
    }
   ],
   "source": [
    "# Print the response\n",
    "print (len(response))\n",
    "#print(response)\n",
    "print (len(response['arguments']))"
   ]
  }
 ],
 "metadata": {
  "kernelspec": {
   "display_name": "env_name",
   "language": "python",
   "name": "python3"
  },
  "language_info": {
   "codemirror_mode": {
    "name": "ipython",
    "version": 3
   },
   "file_extension": ".py",
   "mimetype": "text/x-python",
   "name": "python",
   "nbconvert_exporter": "python",
   "pygments_lexer": "ipython3",
   "version": "3.9.16"
  },
  "orig_nbformat": 4,
  "vscode": {
   "interpreter": {
    "hash": "37cc1b05901c8571bea9fc4b42e3f528ca4394d6e6719f1b5d30d208c4a3cfc1"
   }
  }
 },
 "nbformat": 4,
 "nbformat_minor": 2
}
