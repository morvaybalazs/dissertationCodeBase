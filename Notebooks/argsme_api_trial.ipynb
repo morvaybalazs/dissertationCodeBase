{
 "cells": [
  {
   "cell_type": "code",
   "execution_count": 61,
   "metadata": {},
   "outputs": [],
   "source": [
    "import requests\n",
    "import os\n",
    "import pandas as pd\n",
    "import xml.etree.ElementTree as ET"
   ]
  },
  {
   "cell_type": "code",
   "execution_count": 62,
   "metadata": {},
   "outputs": [],
   "source": [
    "# Search API function\n",
    "def search_api(root, output_dir, pageSize, url_template):\n",
    "    # Loop through topics and search for the top 1000 arguments\n",
    "    for topic in root.findall('topic'):\n",
    "        topic_number = topic.find('number')\n",
    "        if topic_number is not None:\n",
    "            topic_id = topic_number.text\n",
    "            topic_title = topic.find('title')\n",
    "            if topic_title is not None and topic_title.text:\n",
    "                topic_title = topic_title.text.strip()\n",
    "            else:\n",
    "                topic_title = ''\n",
    "                \n",
    "            url = url_template.format(topic_title, pageSize)\n",
    "\n",
    "            # Execute the search query on Elasticsearch\n",
    "            response = requests.get(url).json()\n",
    "            results = response['arguments']\n",
    "            print (len(results))\n",
    "            \n",
    "            # Save the top 1000 arguments for the current topic to a file\n",
    "            os.makedirs(output_dir, exist_ok=True)\n",
    "            topic_file_name = os.path.join(output_dir, f\"{topic_id}.txt\")\n",
    "            header = ['id', 'conclusion', 'premises', 'stance', 'rank']\n",
    "            arguments = []\n",
    "            for i, result in enumerate(results):\n",
    "                argument = [result['id'], result['conclusion'], result['premises'][0]['text'], result['stance'], i + 1]\n",
    "                arguments.append(argument)\n",
    "            \n",
    "            retrieved_arguments_pd = pd.DataFrame(arguments, columns=header)\n",
    "            retrieved_arguments_pd.to_csv(topic_file_name, sep='\\t')\n"
   ]
  },
  {
   "cell_type": "code",
   "execution_count": 67,
   "metadata": {},
   "outputs": [],
   "source": [
    "# Create runfiles using API\n",
    "def make_runfile(root, output_dir, pageSize, url_template, run_tag):\n",
    "    # Create the output directory if it doesn't exist\n",
    "    os.makedirs(output_dir, exist_ok=True)\n",
    "    # Set the output file name\n",
    "    output_file_name = os.path.join(output_dir, \"runfile21.txt\")\n",
    "    # Open the output file for writing\n",
    "    with open(output_file_name, 'w') as f:\n",
    "        # Loop through topics and search for the top 50 arguments\n",
    "        for topic in root.findall('topic'):\n",
    "            topic_number = topic.find('number')\n",
    "            if topic_number is not None:\n",
    "                topic_id = topic_number.text\n",
    "                topic_title = topic.find('title')\n",
    "                if topic_title is not None and topic_title.text:\n",
    "                    topic_title = topic_title.text.strip()\n",
    "                else:\n",
    "                    topic_title = ''\n",
    "                    \n",
    "                # Format the search URL with the topic title and page size\n",
    "                url = url_template.format(topic_title, pageSize)\n",
    "\n",
    "                # Execute the search query\n",
    "                response = requests.get(url).json()\n",
    "                # Get the top 50 results\n",
    "                results = response['arguments'][:50]\n",
    "                print (len(results))\n",
    "                \n",
    "                # Loop through the top 50 results\n",
    "                for i, result in enumerate(results):\n",
    "                    # Get the argument ID, rank, and score\n",
    "                    argument_id = result['id']\n",
    "                    rank = i + 1\n",
    "                    score = result['explanation']['score']\n",
    "                    # Format the output line\n",
    "                    line = f\"{topic_id} Q0 {argument_id} {rank} {score} {run_tag}\\n\"\n",
    "                    # Write the output line to the file\n",
    "                    f.write(line)"
   ]
  },
  {
   "cell_type": "code",
   "execution_count": null,
   "metadata": {},
   "outputs": [],
   "source": [
    "# Evaluate runfiles"
   ]
  },
  {
   "cell_type": "code",
   "execution_count": null,
   "metadata": {},
   "outputs": [],
   "source": [
    "# Feature Extraction"
   ]
  },
  {
   "cell_type": "code",
   "execution_count": null,
   "metadata": {},
   "outputs": [],
   "source": [
    "# Re-ranking"
   ]
  },
  {
   "cell_type": "code",
   "execution_count": 64,
   "metadata": {},
   "outputs": [],
   "source": [
    "# Load the XML files for 2020\n",
    "tree20 = ET.parse('/Users/balazs/Desktop/dissertationProjectCode/dissertationCodeBase/Data/topic_files/topics-task-1-2020.xml')\n",
    "root20 = tree20.getroot()\n",
    "\n",
    "# Load the XML files for 2021\n",
    "tree21 = ET.parse('/Users/balazs/Desktop/dissertationProjectCode/dissertationCodeBase/Data/topic_files/topics-task-1-only-titles.xml')\n",
    "root21 = tree21.getroot()\n",
    "\n",
    "# Define the output directories for 2020\n",
    "output_dir20 = \"/Users/balazs/Desktop/dissertationProjectCode/dissertationCodeBase/Data/args20api/\"\n",
    "\n",
    "# Define the output directories for 2021\n",
    "output_dir21 = \"/Users/balazs/Desktop/dissertationProjectCode/dissertationCodeBase/Data/args21api/\"\n",
    "\n",
    "pageSize = 1000\n",
    "url_template = \"https://args.me/api/v2/arguments?query={}&corpora=args-me-2020-04-01&pageSize={}&format=json\"\n",
    "#url_template = \"https://args.me/api/v2/arguments?query={}&pageSize={}&format=json\""
   ]
  },
  {
   "cell_type": "code",
   "execution_count": 65,
   "metadata": {},
   "outputs": [
    {
     "name": "stdout",
     "output_type": "stream",
     "text": [
      "0\n",
      "0\n",
      "0\n",
      "162\n",
      "0\n",
      "0\n",
      "0\n",
      "0\n",
      "0\n",
      "0\n",
      "802\n",
      "0\n",
      "10\n",
      "0\n",
      "23\n",
      "1000\n",
      "0\n",
      "0\n",
      "0\n",
      "0\n",
      "0\n",
      "8\n",
      "0\n",
      "54\n",
      "126\n",
      "1000\n",
      "10\n",
      "14\n",
      "326\n",
      "0\n",
      "0\n",
      "160\n",
      "0\n",
      "21\n",
      "0\n",
      "5\n",
      "2\n",
      "8\n",
      "0\n",
      "2\n",
      "0\n",
      "8\n",
      "0\n",
      "2\n",
      "0\n",
      "0\n",
      "0\n",
      "0\n",
      "0\n",
      "0\n"
     ]
    }
   ],
   "source": [
    "# Call search functions for 2020\n",
    "search_api(root20, output_dir20, pageSize, url_template)\n",
    "\n",
    "#Call search functions for 2021\n",
    "search_api(root21, output_dir21, pageSize, url_template)"
   ]
  },
  {
   "cell_type": "code",
   "execution_count": 69,
   "metadata": {},
   "outputs": [
    {
     "name": "stdout",
     "output_type": "stream",
     "text": [
      "0\n",
      "0\n",
      "0\n",
      "50\n",
      "0\n",
      "0\n",
      "0\n",
      "0\n",
      "0\n",
      "0\n",
      "50\n",
      "0\n",
      "10\n",
      "0\n",
      "23\n",
      "50\n",
      "0\n",
      "0\n",
      "0\n",
      "0\n",
      "0\n",
      "8\n",
      "0\n",
      "50\n",
      "50\n",
      "50\n",
      "10\n",
      "14\n",
      "50\n",
      "0\n",
      "0\n",
      "50\n",
      "0\n",
      "21\n",
      "0\n",
      "5\n",
      "2\n",
      "8\n",
      "0\n",
      "2\n",
      "0\n",
      "8\n",
      "0\n",
      "2\n",
      "0\n",
      "0\n",
      "0\n",
      "0\n",
      "0\n",
      "0\n"
     ]
    }
   ],
   "source": [
    "# Call search functions for 2020\n",
    "make_runfile(root20, output_dir20, pageSize, url_template, \"40323335_Run_File_20\")\n",
    "\n",
    "# Call search functions for 2021\n",
    "make_runfile(root21, output_dir21, pageSize, url_template, \"40323335_Run_File_21\")"
   ]
  }
 ],
 "metadata": {
  "kernelspec": {
   "display_name": "env_name",
   "language": "python",
   "name": "python3"
  },
  "language_info": {
   "codemirror_mode": {
    "name": "ipython",
    "version": 3
   },
   "file_extension": ".py",
   "mimetype": "text/x-python",
   "name": "python",
   "nbconvert_exporter": "python",
   "pygments_lexer": "ipython3",
   "version": "3.9.16"
  },
  "orig_nbformat": 4,
  "vscode": {
   "interpreter": {
    "hash": "37cc1b05901c8571bea9fc4b42e3f528ca4394d6e6719f1b5d30d208c4a3cfc1"
   }
  }
 },
 "nbformat": 4,
 "nbformat_minor": 2
}
