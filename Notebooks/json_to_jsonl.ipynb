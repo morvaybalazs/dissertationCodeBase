{
 "cells": [
  {
   "cell_type": "code",
   "execution_count": 2,
   "metadata": {},
   "outputs": [
    {
     "ename": "",
     "evalue": "",
     "output_type": "error",
     "traceback": [
      "\u001b[1;31mThe Kernel crashed while executing code in the the current cell or a previous cell. Please review the code in the cell(s) to identify a possible cause of the failure. Click <a href='https://aka.ms/vscodeJupyterKernelCrash'>here</a> for more info. View Jupyter <a href='command:jupyter.viewOutput'>log</a> for further details."
     ]
    },
    {
     "ename": "",
     "evalue": "",
     "output_type": "error",
     "traceback": [
      "\u001b[1;31mCanceled future for execute_request message before replies were done"
     ]
    }
   ],
   "source": [
    "import json\n",
    "import os\n",
    "\n",
    "# Define the file paths\n",
    "json_file_path = '/Users/balazs/Desktop/debateorg.json'\n",
    "jsonl_file_path = '/Users/balazs/Desktop/debateorg.jsonl'\n",
    "\n",
    "# Open the JSON and JSONL files\n",
    "with open(json_file_path, 'r') as json_file, open(jsonl_file_path, 'w') as jsonl_file:\n",
    "    # Load the JSON data\n",
    "    json_data = json.load(json_file)\n",
    "\n",
    "    # Iterate over the JSON objects\n",
    "    for obj in json_data:\n",
    "        # Convert the object to a string and write it to the JSONL file\n",
    "        jsonl_file.write(json.dumps(obj) + os.linesep)"
   ]
  }
 ],
 "metadata": {
  "kernelspec": {
   "display_name": "env_name",
   "language": "python",
   "name": "python3"
  },
  "language_info": {
   "codemirror_mode": {
    "name": "ipython",
    "version": 3
   },
   "file_extension": ".py",
   "mimetype": "text/x-python",
   "name": "python",
   "nbconvert_exporter": "python",
   "pygments_lexer": "ipython3",
   "version": "3.9.16"
  },
  "orig_nbformat": 4,
  "vscode": {
   "interpreter": {
    "hash": "37cc1b05901c8571bea9fc4b42e3f528ca4394d6e6719f1b5d30d208c4a3cfc1"
   }
  }
 },
 "nbformat": 4,
 "nbformat_minor": 2
}
